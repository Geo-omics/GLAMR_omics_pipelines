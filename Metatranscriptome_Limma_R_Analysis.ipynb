{
 "cells": [
  {
   "cell_type": "markdown",
   "metadata": {},
   "source": [
    "# Differential and Functional Analysis of Metatranscriptome Data in R"
   ]
  },
  {
   "cell_type": "markdown",
   "metadata": {},
   "source": [
    "## Before you begin:"
   ]
  },
  {
   "cell_type": "markdown",
   "metadata": {},
   "source": [
    "Required Inputs:\n",
    "    1. info.matrix\n",
    "    2. design.matrix\n",
    "    3. contrast.matrix\n",
    "    4. all sample .cyto and .count files\n",
    "    \n",
    "There are many different species in the microbiome, many of which share the same genes, creating ambiguous read mapping. This ambiguity and the presence of potentially thousands of species necessitates requres different handling than single-organism RNA-seq data. The MUSCATO Pipeline includes a perl script that identifies the Last Common Ancestor (LCA) for each multi-mapping read, then generates an organism output (a .cyto file) and a gene output (a .counts file) that includes both the normalized (RPM) read counts and the longest read LCA per gene.\n",
    "\n",
    "If you do not already have these, you can run the command: perl BOSS/BOSS.pl  and then when it asks if you want to get DEGs, answer yes. Then just run: qsub BOSS.pbs. It will only run the parts of the script necessary to get these input files."
   ]
  },
  {
   "cell_type": "markdown",
   "metadata": {},
   "source": [
    "## Inputting design, contrasts, and count data"
   ]
  },
  {
   "cell_type": "markdown",
   "metadata": {},
   "source": [
    "### First thing to do is make sure that you are in the right directory and have all necessary R packages"
   ]
  },
  {
   "cell_type": "code",
   "execution_count": 10,
   "metadata": {
    "collapsed": true
   },
   "outputs": [],
   "source": [
    "setwd(\"R:\\\\RNASEQ\\\\TONSIL\\\\STATS\")\n",
    "library('data.table')\n",
    "\n",
    "#input design matrix for limma\n",
    "design.matrix = fread(\"design.matrix\", header = TRUE, sep = \"\\t\", stringsAsFactors = FALSE, na.strings=\"NA\", data.table = FALSE)\n",
    "row.names(design.matrix)=design.matrix[,1]\n",
    "design.matrix[,1] = NULL\n",
    "\n",
    "#input contrast matrix for limma\n",
    "contrast.matrix = fread(\"contrast.matrix\", header = TRUE, sep = \"\\t\", stringsAsFactors = FALSE, na.strings=\"NA\", data.table = FALSE)\n",
    "row.names(contrast.matrix)=contrast.matrix[,1]\n",
    "contrast.matrix[,1] = NULL"
   ]
  },
  {
   "cell_type": "markdown",
   "metadata": {},
   "source": [
    "### Now input gene count files, containing LCAs and read counts"
   ]
  },
  {
   "cell_type": "code",
   "execution_count": 12,
   "metadata": {
    "collapsed": true
   },
   "outputs": [],
   "source": [
    "#get filenames\n",
    "  files <- list.files(\"./\", pattern=\"\\\\.counts\", full.names=TRUE)\n",
    "  fn = rownames(design.matrix)\n",
    "  labs = fn\n",
    "  labs = gsub(\"_.*\", \"\", labs)\n",
    "  filenames = character(length = length(fn))\n",
    "  if(length(files)!=length(fn)){\n",
    "        print(\"Some of the counts files are missing, type 'ls muscato/*counts' into the command line and make sure that they match what is in your design.matrix. Once that is done, type 'qsub muscato/checkjob.pbs'. Any other problems email tealfurn@umich.edu.\")\n",
    "        quit()}\n",
    "  for( i in 1:length(fn) ){\n",
    "    good = grep(fn[i], files, value = TRUE)\n",
    "    filenames[i] <- good\n",
    "  }\n",
    "  rm(files)\n",
    "  rm(good)\n",
    "  rm(i)"
   ]
  },
  {
   "cell_type": "code",
   "execution_count": null,
   "metadata": {
    "collapsed": true
   },
   "outputs": [],
   "source": []
  }
 ],
 "metadata": {
  "kernelspec": {
   "display_name": "R",
   "language": "R",
   "name": "ir"
  },
  "language_info": {
   "codemirror_mode": "r",
   "file_extension": ".r",
   "mimetype": "text/x-r-source",
   "name": "R",
   "pygments_lexer": "r",
   "version": "3.4.2"
  }
 },
 "nbformat": 4,
 "nbformat_minor": 2
}
